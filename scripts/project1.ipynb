{
 "cells": [
  {
   "cell_type": "code",
   "execution_count": 1,
   "metadata": {
    "collapsed": true
   },
   "outputs": [],
   "source": [
    "# Useful starting lines\n",
    "%matplotlib inline\n",
    "import numpy as np\n",
    "import matplotlib.pyplot as plt\n",
    "%load_ext autoreload\n",
    "%autoreload 2"
   ]
  },
  {
   "cell_type": "markdown",
   "metadata": {},
   "source": [
    "## Load the training data into feature matrix, class labels, and event ids:"
   ]
  },
  {
   "cell_type": "code",
   "execution_count": 13,
   "metadata": {
    "collapsed": false
   },
   "outputs": [],
   "source": [
    "from proj1_helpers import *\n",
    "from costs import *\n",
    "DATA_TRAIN_PATH = '../train.csv' # TODO: download train data and supply path here \n",
    "y, tX, ids = load_csv_data(DATA_TRAIN_PATH)"
   ]
  },
  {
   "cell_type": "markdown",
   "metadata": {},
   "source": [
    "## Do your thing crazy machine learning thing here :) ..."
   ]
  },
  {
   "cell_type": "markdown",
   "metadata": {},
   "source": [
    "Additional loss and helper functions"
   ]
  },
  {
   "cell_type": "code",
   "execution_count": 6,
   "metadata": {
    "collapsed": true
   },
   "outputs": [],
   "source": [
    "def sigmoid(t):\n",
    "    \"\"\"apply sigmoid function on t.\"\"\"\n",
    "    return np.exp(t)/(1+np.exp(t))\n",
    "\n",
    "def build_poly(x, degree):\n",
    "    \"\"\"polynomial basis functions for input data x, for j=0 up to j=degree.\"\"\"\n",
    "    poly=np.ones([x.shape[0],degree+1])\n",
    "    for i in range(0,x.shape[0]):\n",
    "        for j in range(1, degree+1):\n",
    "            poly[i][j]=np.power(x[i],j)\n",
    "    return poly\n",
    "\n",
    "def compute_rmse(y,tx,w):\n",
    "    e=y-(tx @ w)\n",
    "    return math.sqrt(1/y.shape[0]*(e @ e))\n",
    "\n",
    "\n",
    "def calculate_loss_logistic_regression(y, tx, w):\n",
    "    \"\"\"compute the cost by negative log likelihood.\"\"\"\n",
    "    a=0\n",
    "    for n in range(y.shape[0]):    \n",
    "        a+=np.log(1+np.exp(tx[n].T @ w))-y[n]*tx[n].T @ w\n",
    "    return a[0]\n",
    "\n",
    "def build_tx(x):\n",
    "    return tx = np.c_[np.ones((y.shape[0], 1)), x]"
   ]
  },
  {
   "cell_type": "markdown",
   "metadata": {},
   "source": [
    "Gradients calculations"
   ]
  },
  {
   "cell_type": "code",
   "execution_count": 16,
   "metadata": {
    "collapsed": false
   },
   "outputs": [],
   "source": [
    "def compute_gradient_MSE(y,tx,w):\n",
    "    \"\"\"Compute the gradient.\"\"\"\n",
    "    e=y-(tx @ w)\n",
    "    return -1/y.shape[0]*tx.T @ e\n",
    "\n",
    "def compute_stoch_gradient(y, tx, w):\n",
    "    \"\"\"Compute a stochastic gradient for batch data.\"\"\"\n",
    "    return compute_gradient(y,tx,w)\n",
    "\n",
    "def compute_gradient_MAE(y,tx,w):\n",
    "    sumX=0\n",
    "    sumY=0\n",
    "    for n in range(0,y.shape[0]):\n",
    "        temp=y[n]-w[0]-w[1]*tx[n,1]\n",
    "        if(temp>0):\n",
    "            sumX=sumX-1\n",
    "            sumY=sumY-tx[n,1]\n",
    "        if(temp<0):\n",
    "            sumX=sumX+1\n",
    "            sumY=sumY+tx[n,1]\n",
    "    return np.array([sumX/y.shape[0],sumY/y.shape[0]])\n",
    "\n",
    "def calculate_gradient_logistic_regression(y, tx, w):\n",
    "    \"\"\"compute the gradient of loss.\"\"\"\n",
    "    return tx.T @ (sigmoid(tx @ w)-y)\n",
    "\n",
    "def calculate_hessian(y, tx, w):\n",
    "    \"\"\"return the hessian of the loss function.\"\"\"\n",
    "    # calculate hessian: \n",
    "    S=np.zeros((y.shape[0],y.shape[0]))\n",
    "    for i in range(0,y.shape[0]):\n",
    "        S[i,i]=sigmoid(tx[i].T @ w)*(1-sigmoid(tx[i].T @ w))\n",
    "    return tx.T @ S @ tx\n",
    "\n",
    "\n",
    "def logistic_regression_newton(y, tx, w):\n",
    "    \"\"\"return the loss, gradient, and hessian.\"\"\"\n",
    "    # return loss, gradient, and hessian:\n",
    "    return calculate_loss_logistic_regression(y,tx,w),calculate_gradient_logistic_regression(y,tx,w),calculate_hessian(y,tx,w)\n",
    "\n",
    "def penalized_logistic_regression(y, tx, w, lambda_):\n",
    "    \"\"\"return the loss, gradient, and hessian.\"\"\"\n",
    "    # return loss, gradient, and hessian:\n",
    "    loss,gradient,hessian=logistic_regression_newton(y,tx,w)\n",
    "    loss+= lambda_*np.sum(w*w)\n",
    "    gradient+=lambda_*np.sum(2*w)\n",
    "    hessian+=lambda_*2*w.shape[0]\n",
    "    return loss,gradient,hessian"
   ]
  },
  {
   "cell_type": "markdown",
   "metadata": {},
   "source": [
    "Gradient descent (one step)"
   ]
  },
  {
   "cell_type": "code",
   "execution_count": 15,
   "metadata": {
    "collapsed": true
   },
   "outputs": [],
   "source": [
    "def learning_by_gradient_descent_logistic_regression(y, tx, w, gamma):\n",
    "    \"\"\"\n",
    "    Do one step of gradient descent using logistic regression.\n",
    "    Return the loss and the updated w.\n",
    "    \"\"\"\n",
    "    # compute the cost:\n",
    "    loss=calculate_loss_logistic_regression(y,tx,w)\n",
    "    # compute the gradient:\n",
    "    gradient=calculate_gradient_logistic_regression(y,tx,w)\n",
    "    # update w:\n",
    "    w=w-gamma*gradient\n",
    "    return loss, w\n",
    "\n",
    "def learning_by_newton_method(y, tx, w, gamma):\n",
    "    \"\"\"\n",
    "    Do one step on Newton's method.\n",
    "    return the loss and updated w.\n",
    "    \"\"\"\n",
    "    # return loss, gradient and hessian:\n",
    "    loss,gradient,hessian = logistic_regression_newton(y,tx,w)\n",
    "    # update w:\n",
    "    w=w-gamma * np.linalg.inv(hessian) @ gradient\n",
    "    return loss, w\n",
    "\n",
    "def learning_by_penalized_gradient(y, tx, w, gamma, lambda_):\n",
    "    \"\"\"\n",
    "    Do one step of gradient descent, using the penalized logistic regression.\n",
    "    Return the loss and updated w.\n",
    "    \"\"\"\n",
    "    # return loss, gradient and hessian:\n",
    "    \n",
    "    loss,gradient,hessian = penalized_logistic_regression(y,tx,w,lambda_)\n",
    "    # update w:\n",
    "    w=w-gamma * np.linalg.inv(hessian) @ gradient\n",
    "    return loss, w\n",
    "\n",
    "\n",
    "# DO GD linear regression with mse\n",
    "def learning_by_GD_mse(y,tx,w,lambda_):\n",
    "    return compute_loss(y,tx,w),w-lambda_*compute_gradient_MSE(y,tx,w)\n",
    "# DO SGD linear regression with mse\n",
    "def learning_by_SGD_mse(y,tx,w,lambda_):\n",
    "    return compute_loss(y,tx,w),w-lambda_*compute_stoch_gradient(y,tx,w)"
   ]
  },
  {
   "cell_type": "markdown",
   "metadata": {},
   "source": [
    "Normal equations"
   ]
  },
  {
   "cell_type": "code",
   "execution_count": 10,
   "metadata": {
    "collapsed": true
   },
   "outputs": [],
   "source": [
    "def least_squares(y, tx):\n",
    "    \"\"\"calculate the least squares solution.\"\"\"\n",
    "    w=np.linalg.inv(tx.T @ tx) @ tx.T @ y\n",
    "    e= y - (tx @ w)\n",
    "    mse=1/(2*y.shape[0])*(e.T @ e)\n",
    "    return w,mse\n",
    "\n",
    "def ridge_regression(y, tx, lamb):\n",
    "    \"\"\"implement ridge regression.\"\"\"\n",
    "    return np.linalg.solve((tx.T @ tx)+lamb*np.identity(tx.shape[1]), tx.T @ y)\n"
   ]
  },
  {
   "cell_type": "markdown",
   "metadata": {},
   "source": [
    "ML Functions"
   ]
  },
  {
   "cell_type": "code",
   "execution_count": 18,
   "metadata": {
    "collapsed": false
   },
   "outputs": [],
   "source": [
    "def gradient_descent_mse(y, tx, initial_w, max_iters, gamma): \n",
    "    \"\"\"Gradient descent algorithm.\"\"\"\n",
    "    # Define parameters to store w and loss\n",
    "    ws = [initial_w]\n",
    "    losses = []\n",
    "    w = initial_w\n",
    "    for n_iter in range(max_iters):\n",
    "        loss,w=learning_by_GD_mse(y,tx,w,gamma)\n",
    "        # store w and loss\n",
    "        ws.append(np.copy(w))\n",
    "        losses.append(loss)\n",
    "    return losses, ws\n",
    "\n",
    "def stochastic_gradient_descent(y, tx, initial_w, batch_size, max_iter, gamma):\n",
    "    \"\"\"Stochastic gradient descent algorithm.\"\"\"\n",
    "    ws = [initial_w]\n",
    "    losses = []\n",
    "    w = initial_w\n",
    "    minibatchs = batch_iter(y, tx, batch_size, num_batches=math.floor(y.shape[0]/batch_size))\n",
    "    for n_iter in range(0,np.min([max_iter,num_batches])):\n",
    "        # compute gradient and loss\n",
    "        minibatch=minibatchs.__next__()\n",
    "        loss,w=learning_by_SGD_mse(minibatch[0],minibatch[1],w)\n",
    "        # store w and loss\n",
    "        ws.append(np.copy(w))\n",
    "        losses.append(loss)\n",
    "    return losses, ws\n",
    "\n",
    "def logistic_regression_gradient_descent(y, x, max_iters, threshold,gamma):\n",
    "    # init parameters\n",
    "    losses = []\n",
    "    tx=build_tx(x)\n",
    "    w = np.zeros((tx.shape[1], 1))\n",
    "    ws=[]\n",
    "    ws.append(w)\n",
    "    # start the logistic regression\n",
    "    for iter in range(max_iter):\n",
    "        # get loss and update w.\n",
    "        loss, w = learning_by_gradient_descent_logistic_regression(y, tx, w, gamma)\n",
    "        # log info\n",
    "        if iter % 1000 == 0:\n",
    "            print(\"Current iteration={i}, the loss={l}\".format(i=iter, l=loss))\n",
    "        # converge criteria\n",
    "        losses.append(loss)\n",
    "        ws.append(w)\n",
    "        if len(losses) > 1 and np.abs(losses[-1] - losses[-2]) < threshold:\n",
    "            print(\"The loss={l}\".format(l=calculate_loss(y, tx, w)))\n",
    "            break\n",
    "    return losses,ws\n",
    "\n",
    "def logistic_regression_newton_method(y, x,max_iters,threshold,gamma):\n",
    "    # init parameters\n",
    "    losses = []\n",
    "    tx=build_tx(x)\n",
    "    w = np.zeros((tx.shape[1], 1))\n",
    "    ws=[]\n",
    "    ws.append(w)\n",
    "    # start the logistic regression\n",
    "    for iter in range(max_iter):\n",
    "        # get loss and update w.\n",
    "        loss, w = learning_by_newton_method(y, tx, w, gamma)\n",
    "        # log info\n",
    "        if iter % 500 == 0:\n",
    "            print(\"Current iteration={i}, the loss={l}\".format(i=iter, l=loss))\n",
    "        # converge criteria\n",
    "        losses.append(loss)\n",
    "        ws.append(w)\n",
    "        if len(losses) > 1 and np.abs(losses[-1] - losses[-2]) < threshold:\n",
    "            break\n",
    "    # visualization\n",
    "    visualization(y, x, mean_x, std_x, w, \"classification_by_logistic_regression_newton_method\")\n",
    "    print(\"The loss={l}\".format(l=calculate_loss(y, tx, w)))\n",
    "\n",
    "def logistic_regression_penalized_gradient_descent(y, x,max_iters,threshold,gamma,lambda_):\n",
    "    # init parameters\n",
    "    losses = []\n",
    "    tx=build_tx(x)\n",
    "    w = np.zeros((tx.shape[1], 1))\n",
    "    ws=[]\n",
    "    ws.append(w)\n",
    "    \n",
    "    # start the logistic regression\n",
    "    for iter in range(max_iter):\n",
    "        # get loss and update w.\n",
    "        loss, w = learning_by_penalized_gradient(y, tx, w, gamma, lambda_)\n",
    "        # log info\n",
    "        if iter % 500 == 0:\n",
    "            print(\"Current iteration={i}, the loss={l}\".format(i=iter, l=loss))\n",
    "        # converge criteria\n",
    "        losses.append(loss)\n",
    "        ws.append(w)\n",
    "        if len(losses) > 1 and np.abs(losses[-1] - losses[-2]) < threshold:\n",
    "            break\n",
    "    # visualization\n",
    "    visualization(y, x, mean_x, std_x, w, \"classification_by_logistic_regression_penalized_gradient_descent\")\n",
    "    print(\"The loss={l}\".format(l=calculate_loss(y, tx, w)))\n",
    "    \n",
    "    \n",
    "def ridge_regression(x, y, degree,lambda_, ratio, seed):\n",
    "    \"\"\"ridge regression demo.\"\"\"\n",
    "    # form train and test data with polynomial basis function: TODO\n",
    "    # ***************************************************\n",
    "    train_tx=build_poly(x,degree)\n",
    "    # ***************************************************\n",
    "    # INSERT YOUR CODE HERE\n",
    "    # ridge regression with different lambda: TODO\n",
    "    # ***************************************************\n",
    "    weight = ridge_regression(y,train_tx,lambda_)\n",
    "    loss=compute_RMSE(train_y,train_tx,weight)\n",
    "    return loss,weight\n",
    "    \n",
    "    \n"
   ]
  },
  {
   "cell_type": "code",
   "execution_count": null,
   "metadata": {
    "collapsed": true
   },
   "outputs": [],
   "source": []
  },
  {
   "cell_type": "markdown",
   "metadata": {},
   "source": [
    "## Generate predictions and save ouput in csv format for submission:"
   ]
  },
  {
   "cell_type": "code",
   "execution_count": 10,
   "metadata": {
    "collapsed": false
   },
   "outputs": [],
   "source": [
    "DATA_TEST_PATH = '../test.csv' # TODO: download test data and supply path here \n",
    "_, tX_test, ids_test = load_csv_data(DATA_TEST_PATH)"
   ]
  },
  {
   "cell_type": "code",
   "execution_count": 31,
   "metadata": {
    "collapsed": false
   },
   "outputs": [],
   "source": [
    "OUTPUT_PATH = '' # TODO: fill in desired name of output file for submission\n",
    "y_pred = predict_labels(weights, tX_test)\n",
    "create_csv_submission(ids_test, y_pred, OUTPUT_PATH)"
   ]
  },
  {
   "cell_type": "code",
   "execution_count": null,
   "metadata": {
    "collapsed": true
   },
   "outputs": [],
   "source": []
  }
 ],
 "metadata": {
  "anaconda-cloud": {},
  "kernelspec": {
   "display_name": "Python [Root]",
   "language": "python",
   "name": "Python [Root]"
  },
  "language_info": {
   "codemirror_mode": {
    "name": "ipython",
    "version": 3
   },
   "file_extension": ".py",
   "mimetype": "text/x-python",
   "name": "python",
   "nbconvert_exporter": "python",
   "pygments_lexer": "ipython3",
   "version": "3.5.2"
  }
 },
 "nbformat": 4,
 "nbformat_minor": 0
}
