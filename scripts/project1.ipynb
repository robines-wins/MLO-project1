{
 "cells": [
  {
   "cell_type": "code",
   "execution_count": 1,
   "metadata": {
    "collapsed": false
   },
   "outputs": [],
   "source": [
    "# Useful starting lines\n",
    "%matplotlib inline\n",
    "import numpy as np\n",
    "import matplotlib.pyplot as plt\n",
    "from functools import partial\n",
    "%load_ext autoreload\n",
    "%autoreload 2"
   ]
  },
  {
   "cell_type": "markdown",
   "metadata": {},
   "source": [
    "# Load the training data into feature matrix, class labels, and event ids:"
   ]
  },
  {
   "cell_type": "code",
   "execution_count": 2,
   "metadata": {
    "collapsed": false
   },
   "outputs": [],
   "source": [
    "from proj1_helpers import *\n",
    "DATA_TRAIN_PATH = '../train.csv' # TODO: download train data and supply path here \n",
    "y, tX, ids = load_csv_data(DATA_TRAIN_PATH)"
   ]
  },
  {
   "cell_type": "markdown",
   "metadata": {},
   "source": [
    "# Implement ML functions"
   ]
  },
  {
   "cell_type": "code",
   "execution_count": 3,
   "metadata": {
    "collapsed": true
   },
   "outputs": [],
   "source": [
    "def compute_cost(y, tx, w):\n",
    "    return compute_cost_MSE(y,tx,w)\n",
    "    \n",
    "def compute_cost_MSE(y,tx,w):\n",
    "    e=y-(tx @ w)\n",
    "    return (1/(2*y.shape[0]))*(e.T @ e)\n",
    "def compute_cost_MAE(y,tx,w):\n",
    "    e=y-(tx @ w)\n",
    "    return (1/y.shape[0])*np.absolute(e).sum()"
   ]
  },
  {
   "cell_type": "code",
   "execution_count": 4,
   "metadata": {
    "collapsed": true
   },
   "outputs": [],
   "source": [
    "def compute_gradient_MSE(y,tx,w):\n",
    "    \"\"\"Compute the gradient.\"\"\"\n",
    "    e=y-(tx @ w)\n",
    "    return -1/y.shape[0]*(tx.T @ e)"
   ]
  },
  {
   "cell_type": "code",
   "execution_count": 5,
   "metadata": {
    "collapsed": true
   },
   "outputs": [],
   "source": [
    "def general_gradient_descent(y, tx, initial_w, max_iters, gamma, grad_function, cost_function):\n",
    "    \"\"\"Gradient descent algorithm who work with arbitrary gradient and cost function\n",
    "    grad and cost function should take y,tw and w as parameter and return resêctivly the gradient vector and the scalar error\"\"\"\n",
    "    # Define parameters to store w and loss\n",
    "    ws = [initial_w.ravel()]\n",
    "    losses = []\n",
    "    w = initial_w.ravel()\n",
    "    for n_iter in range(max_iters):\n",
    "        #compute gradient and loss\n",
    "        gradient=grad_function(y,tx,w)\n",
    "        loss=cost_function(y,tx,w)\n",
    "        if n_iter % 50 == 0:\n",
    "            print(\"Current iteration={i}, the loss={l}\".format(i=n_iter, l=loss))\n",
    "        #update w by gradient\n",
    "        w=w-gamma*gradient\n",
    "        \n",
    "        # store w and loss\n",
    "        ws.append(np.copy(w))\n",
    "        losses.append(loss)\n",
    "        #print(\"Gradient Descent({bi}/{ti}): loss={l}, w0={w0}, w1={w1}\".format(\n",
    "        #     bi=n_iter, ti=max_iters - 1, l=loss, w0=w[0], w1=w[1]))\n",
    "\n",
    "    return losses[-1], ws[-1]"
   ]
  },
  {
   "cell_type": "code",
   "execution_count": 6,
   "metadata": {
    "collapsed": true
   },
   "outputs": [],
   "source": [
    "def general_stochastic_gradient_descent(y, tx, initial_w, batch_size, max_iters, gamma, stock_grad_function, cost_function):\n",
    "    \"\"\"Gradient descent algorithm who work with arbitrary gradient and cost function\n",
    "    grad and cost function should take y,tw and w as parameter and return respectivly the gradient vector and the scalar error\"\"\"\n",
    "    \n",
    "    # implement stochastic gradient descent.\n",
    "    ws = [initial_w.ravel()]\n",
    "    losses = []\n",
    "    w = initial_w.ravel()\n",
    "    \n",
    "    minibatchs = batch_iter(y, tx, batch_size, num_batches=math.floor(y.shape[0]/batch_size))\n",
    "    for n_iter in range(0,max_epochs):\n",
    "        \n",
    "        # compute gradient and loss\n",
    "        minibatch=minibatchs.__next__()\n",
    "        gradient=stock_grad_function(minibatch[0],minibatch[1],w)\n",
    "        loss=cost_function(y,tx,w)\n",
    "        \n",
    "        # update w by gradient\n",
    "        w=w-gamma*gradient\n",
    "        # store w and loss\n",
    "        ws.append(np.copy(w))\n",
    "        losses.append(loss)\n",
    "        print(\"Gradient Descent({bi}/{ti}): loss={l}, w0={w0}, w1={w1}\".format(\n",
    "              bi=n_iter, ti=max_iters - 1, l=loss, w0=w[0], w1=w[1]))\n",
    "\n",
    "    return losses[-1], ws[-1]"
   ]
  },
  {
   "cell_type": "code",
   "execution_count": 7,
   "metadata": {
    "collapsed": false
   },
   "outputs": [],
   "source": [
    "def least_squares_GD(y, tx, gamma, max_iters):\n",
    "    return general_gradient_descent(y,tx,np.zeros((tx.shape[1], 1)).ravel(),max_iters,gamma,compute_gradient_MSE,compute_cost_MSE)\n",
    "\n",
    "#general_gradient_descent(y,tX,np.zeros((tX.shape[1], 1)),20,0.000003,compute_gradient_MSE,compute_cost_MSE)\n"
   ]
  },
  {
   "cell_type": "code",
   "execution_count": 8,
   "metadata": {
    "collapsed": true
   },
   "outputs": [],
   "source": [
    "def least_squares_SGD(y, tx, gamma, max_iters):\n",
    "    batch_size = y.shape[0]//2\n",
    "    return general_stochastic_gradient_descent(y,tx,np.zeros((tx.shape[1], 1)),batch_size,max_iters,gamma,compute_gradient_MSE,compute_cost_MSE)"
   ]
  },
  {
   "cell_type": "code",
   "execution_count": 9,
   "metadata": {
    "collapsed": true
   },
   "outputs": [],
   "source": [
    "def least_squares(y, tx):\n",
    "    w = np.linalg.solve(tx.T.dot(tx),tx.T.dot(y)) #return best weight\n",
    "    return compute_cost_MSE(y, tx, w), w"
   ]
  },
  {
   "cell_type": "code",
   "execution_count": 10,
   "metadata": {
    "collapsed": true
   },
   "outputs": [],
   "source": [
    "def ridge_regression(y, tx, lamb):\n",
    "    \"\"\"implement ridge regression.\"\"\"\n",
    "    \n",
    "    lambp = lamb*(2*tx.shape[0])\n",
    "    #return np.linalg.inv(tx.T.dot(tx)+lambp*np.eye(tx.shape[1])).dot(tx.T).dot(y)\n",
    "    w =  np.linalg.solve(tx.T.dot(tx)+lambp*np.eye(tx.shape[1]),tx.T.dot(y))\n",
    "    return compute_cost_MSE(y, tx, w), w"
   ]
  },
  {
   "cell_type": "markdown",
   "metadata": {},
   "source": [
    "### Logistic"
   ]
  },
  {
   "cell_type": "code",
   "execution_count": 11,
   "metadata": {
    "collapsed": true
   },
   "outputs": [],
   "source": [
    "def sigmoid(t):\n",
    "    \"\"\"apply sigmoid function on t.\"\"\"\n",
    "    z = np.exp(t)\n",
    "    return z/(1+z)\n",
    "\n",
    "def compute_loss_logistic(y, tx, w, lambda_=0):\n",
    "    \"\"\"compute the cost by negative log likelihood.\"\"\"\n",
    "    clip = np.clip(tx @ w, -700, 700)\n",
    "    if lambda_ == 0:\n",
    "        return (1/y.shape[0])*np.sum(np.log(1+np.exp(clip))-y*(tx @ w))\n",
    "    else:\n",
    "        return (1/y.shape[0])*np.sum(np.log(1+np.exp(clip))-y*(tx @ w)) + lambda_*np.sum(w*w) #or + lambda_*w.T*w\n",
    "    #return -np.sum(np.log(1+np.exp(tx @ w))-y*(tx @ w))\n",
    "    \n",
    "def compute_gradient_sigmoid(y, tx, w, lambda_=0):\n",
    "    \"\"\"compute the gradient of loss.\"\"\"\n",
    "    clip = np.clip(tx @ w, -700, 700)\n",
    "    if lambda_ == 0:\n",
    "        return (1/y.shape[0])*tx.T.dot(sigmoid(clip)-y)\n",
    "    else:\n",
    "        return (1/y.shape[0])*tx.T.dot(sigmoid(clip)-y) + lambda_*2*w"
   ]
  },
  {
   "cell_type": "code",
   "execution_count": 12,
   "metadata": {
    "collapsed": true
   },
   "outputs": [],
   "source": [
    "def logistic_regression(y, tx, gamma ,max_iters):\n",
    "    print(\"fuck\")\n",
    "    ok = general_gradient_descent(y,tx,np.zeros((tx.shape[1], 1)),max_iters,gamma,compute_gradient_sigmoid,compute_loss_logistic)\n",
    "    return ok"
   ]
  },
  {
   "cell_type": "code",
   "execution_count": 13,
   "metadata": {
    "collapsed": false
   },
   "outputs": [],
   "source": [
    "def reg_logistic_regression(y, tx, lambda_ , gamma, max_iters):\n",
    "    gradf = partial(compute_gradient_sigmoid,lambda_ = lambda_)\n",
    "    costf = partial(compute_loss_logistic, lambda_ = lambda_)\n",
    "    return general_gradient_descent(y,tx,np.zeros((tx.shape[1], 1)),max_iters,gamma,gradf,costf)\n"
   ]
  },
  {
   "cell_type": "markdown",
   "metadata": {},
   "source": [
    "### Cross-validation"
   ]
  },
  {
   "cell_type": "code",
   "execution_count": 14,
   "metadata": {
    "collapsed": false
   },
   "outputs": [],
   "source": [
    "def build_k_indices(y, k_fold, seed):\n",
    "    \"\"\"build k indices for k-fold.\"\"\"\n",
    "    num_row = y.shape[0]\n",
    "    interval = int(num_row / k_fold)\n",
    "    np.random.seed(seed)\n",
    "    indices = np.random.permutation(num_row)\n",
    "    k_indices = [indices[k * interval: (k + 1) * interval] for k in range(k_fold)]\n",
    "    return np.array(k_indices)\n",
    "\n",
    "def cross_validation(y, tx, function_to_test,k_fold, lambda_,seed,cost_function):\n",
    "    \"\"\"return the loss of train values, loss of test values and weights\"\"\"\n",
    "    k_indices=build_k_indices(y,k_fold,seed)\n",
    "    loss_tr=[]\n",
    "    loss_te=[]\n",
    "    weights=[]\n",
    "    for k in range(k_indices.shape[0]):\n",
    "        # get k'th subgroup in test, others in train:\n",
    "        train_indices=k_indices[[i for i in range(len(k_indices)) if i != k]]\n",
    "        train_tx,train_y=tx[np.ravel(train_indices)],y[np.ravel(train_indices)]\n",
    "        test_tx,test_y=tx[k_indices[k]],y[k_indices[k]]\n",
    "\n",
    "        loss_tr_k, weight_k = function_to_test(train_y, train_tx,lambda_)\n",
    "        loss_tr.append(loss_tr_k)\n",
    "        weights.append(weight_k)\n",
    "        loss_te.append(cost_function(test_y,test_tx,weight_k))\n",
    "    return np.mean(loss_tr), np.mean(loss_te),np.mean(weights,axis=0)\n",
    "\n",
    "def finding_lambda(y, tx, function_to_test,k_fold,seed,lambdas,cost_function):\n",
    "    \n",
    "    # define lists to store the loss of training data and test data\n",
    "    loss_tr = []\n",
    "    loss_te = []\n",
    "    for lambda_ in lambdas:\n",
    "        print(\"lambda : \", lambda_)\n",
    "        if(cost_function==compute_loss_logistic):\n",
    "            cost_function=partial(compute_loss_logistic,lambda_=lambda_)\n",
    "        loss_tr_lamb,loss_te_lamb,weight_lamb=cross_validation(y,tx,function_to_test,k_fold,lambda_,seed,cost_function)\n",
    "        loss_tr.append(loss_tr_lamb)\n",
    "        loss_te.append(loss_te_lamb)\n",
    "    return loss_tr,loss_te\n",
    "        \n",
    "\n"
   ]
  },
  {
   "cell_type": "markdown",
   "metadata": {
    "collapsed": true
   },
   "source": [
    "## Preprocessing data formating"
   ]
  },
  {
   "cell_type": "code",
   "execution_count": 15,
   "metadata": {
    "collapsed": false
   },
   "outputs": [],
   "source": [
    "def remove_outliers(tX,mean_x,std_x):\n",
    "    tX2=tX.copy()\n",
    "    for sample in range(tX.shape[0]):\n",
    "        for dim in range(tX.shape[1]):\n",
    "            if(tX2[sample,dim]>mean_x[dim]+2*std_x[dim]):\n",
    "                tX2[sample,dim]=mean_x[dim]\n",
    "            if(tX2[sample,dim]<mean_x[dim]-2*std_x[dim]):\n",
    "                tX2[sample,dim]=mean_x[dim]\n",
    "            if(tX2[sample,dim]==-999):\n",
    "                tX2[sample,dim]=0\n",
    "    return tX2\n",
    "def modify_y(y):\n",
    "    y2 = y.copy()\n",
    "    y2[np.where(y==-1)] = 0\n",
    "    return y2"
   ]
  },
  {
   "cell_type": "code",
   "execution_count": 54,
   "metadata": {
    "collapsed": false
   },
   "outputs": [],
   "source": [
    "def rescale(tx):\n",
    "    mins = np.amin(tx,axis = 0)\n",
    "    maxs = np.amax(tx,axis = 0)\n",
    "    txscale = (tx-mins)/(maxs-mins)\n",
    "    return txscale"
   ]
  },
  {
   "cell_type": "code",
   "execution_count": 55,
   "metadata": {
    "collapsed": false
   },
   "outputs": [
    {
     "name": "stdout",
     "output_type": "stream",
     "text": [
      "[[ 138.47         51.655        97.827      ...,    1.24         -2.475\n",
      "   113.497     ]\n",
      " [ 160.937        68.768       103.235      ...,    0.            0.\n",
      "    46.226     ]\n",
      " [ -49.02307944   49.23981928  125.953      ...,    0.            0.\n",
      "    44.251     ]\n",
      " ..., \n",
      " [ 105.457        60.526        75.839      ...,    0.            0.\n",
      "    41.992     ]\n",
      " [  94.951        19.362        68.812      ...,    0.            0.            0.        ]\n",
      " [ -49.02307944   72.756        70.831      ...,    0.            0.            0.        ]]\n"
     ]
    }
   ],
   "source": [
    "mean_x = np.mean(tX, axis=0)\n",
    "std_x = np.std(tX, axis=0)\n",
    "tX_norm=remove_outliers(tX,mean_x,std_x)\n",
    "y0=modify_y(y)\n",
    "print(tX_norm)"
   ]
  },
  {
   "cell_type": "code",
   "execution_count": 20,
   "metadata": {
    "collapsed": false
   },
   "outputs": [],
   "source": [
    "tX_norm = rescale(tX)"
   ]
  },
  {
   "cell_type": "markdown",
   "metadata": {},
   "source": [
    "## Prediction Formula"
   ]
  },
  {
   "cell_type": "markdown",
   "metadata": {},
   "source": [
    "#### Finding a good lambda for ridge regression"
   ]
  },
  {
   "cell_type": "code",
   "execution_count": 21,
   "metadata": {
    "collapsed": false
   },
   "outputs": [
    {
     "name": "stdout",
     "output_type": "stream",
     "text": [
      "lambda :  0.0001\n",
      "lambda :  0.000161026202756\n",
      "lambda :  0.00025929437974\n",
      "lambda :  0.000417531893656\n",
      "lambda :  0.00067233575365\n",
      "lambda :  0.00108263673387\n",
      "lambda :  0.0017433288222\n",
      "lambda :  0.00280721620394\n",
      "lambda :  0.00452035365636\n",
      "lambda :  0.00727895384398\n",
      "lambda :  0.0117210229753\n",
      "lambda :  0.0188739182214\n",
      "lambda :  0.0303919538231\n",
      "lambda :  0.0489390091848\n",
      "lambda :  0.0788046281567\n",
      "lambda :  0.126896100317\n",
      "lambda :  0.204335971786\n",
      "lambda :  0.329034456231\n",
      "lambda :  0.529831690628\n",
      "lambda :  0.853167852417\n",
      "lambda :  1.37382379588\n",
      "lambda :  2.21221629107\n",
      "lambda :  3.56224789026\n",
      "lambda :  5.73615251045\n",
      "lambda :  9.23670857187\n",
      "lambda :  14.8735210729\n",
      "lambda :  23.9502661999\n",
      "lambda :  38.5662042116\n",
      "lambda :  62.1016941892\n",
      "lambda :  100.0\n"
     ]
    },
    {
     "data": {
      "image/png": "[encoded data removed]",
      "text/plain": [
       "<matplotlib.figure.Figure at 0x105bfba90>"
      ]
     },
     "metadata": {},
     "output_type": "display_data"
    }
   ],
   "source": [
    "initial_w=np.zeros(tX.shape[1])\n",
    "function_to_test=ridge_regression\n",
    "k_fold=4\n",
    "lambdas = np.logspace(-4, 2, 30)\n",
    "loss_tr,loss_te=finding_lambda(y,tX_norm,function_to_test,k_fold,1,lambdas,compute_cost)\n",
    "from helpers import *\n",
    "cross_validation_visualization(lambdas, loss_tr, loss_te)"
   ]
  },
  {
   "cell_type": "code",
   "execution_count": null,
   "metadata": {
    "collapsed": false
   },
   "outputs": [],
   "source": [
    "loss_tr,loss_te,w=cross_validation(y, tX_norm, ridge_regression,4, 0,1,compute_cost)\n",
    "loss_tr,loss_te,w"
   ]
  },
  {
   "cell_type": "markdown",
   "metadata": {
    "collapsed": false
   },
   "source": [
    "#### Finding a good lambda for penalized logistic regression"
   ]
  },
  {
   "cell_type": "code",
   "execution_count": 23,
   "metadata": {
    "collapsed": false,
    "scrolled": true
   },
   "outputs": [
    {
     "name": "stdout",
     "output_type": "stream",
     "text": [
      "lambda :  0.0001\n",
      "Current iteration=0, the loss=0.6931471805599453\n",
      "Current iteration=0, the loss=0.6931471805599453\n",
      "Current iteration=0, the loss=0.6931471805599453\n",
      "Current iteration=0, the loss=0.6931471805599453\n",
      "lambda :  0.000161026202756\n",
      "Current iteration=0, the loss=0.6931471805599453\n",
      "Current iteration=0, the loss=0.6931471805599453\n",
      "Current iteration=0, the loss=0.6931471805599453\n",
      "Current iteration=0, the loss=0.6931471805599453\n",
      "lambda :  0.00025929437974\n",
      "Current iteration=0, the loss=0.6931471805599453\n",
      "Current iteration=0, the loss=0.6931471805599453\n",
      "Current iteration=0, the loss=0.6931471805599453\n",
      "Current iteration=0, the loss=0.6931471805599453\n",
      "lambda :  0.000417531893656\n",
      "Current iteration=0, the loss=0.6931471805599453\n",
      "Current iteration=0, the loss=0.6931471805599453\n",
      "Current iteration=0, the loss=0.6931471805599453\n",
      "Current iteration=0, the loss=0.6931471805599453\n",
      "lambda :  0.00067233575365\n",
      "Current iteration=0, the loss=0.6931471805599453\n",
      "Current iteration=0, the loss=0.6931471805599453\n",
      "Current iteration=0, the loss=0.6931471805599453\n",
      "Current iteration=0, the loss=0.6931471805599453\n",
      "lambda :  0.00108263673387\n",
      "Current iteration=0, the loss=0.6931471805599453\n",
      "Current iteration=0, the loss=0.6931471805599453\n",
      "Current iteration=0, the loss=0.6931471805599453\n",
      "Current iteration=0, the loss=0.6931471805599453\n",
      "lambda :  0.0017433288222\n",
      "Current iteration=0, the loss=0.6931471805599453\n",
      "Current iteration=0, the loss=0.6931471805599453\n",
      "Current iteration=0, the loss=0.6931471805599453\n",
      "Current iteration=0, the loss=0.6931471805599453\n",
      "lambda :  0.00280721620394\n",
      "Current iteration=0, the loss=0.6931471805599453\n",
      "Current iteration=0, the loss=0.6931471805599453\n",
      "Current iteration=0, the loss=0.6931471805599453\n",
      "Current iteration=0, the loss=0.6931471805599453\n",
      "lambda :  0.00452035365636\n",
      "Current iteration=0, the loss=0.6931471805599453\n",
      "Current iteration=0, the loss=0.6931471805599453\n",
      "Current iteration=0, the loss=0.6931471805599453\n",
      "Current iteration=0, the loss=0.6931471805599453\n",
      "lambda :  0.00727895384398\n",
      "Current iteration=0, the loss=0.6931471805599453\n",
      "Current iteration=0, the loss=0.6931471805599453\n",
      "Current iteration=0, the loss=0.6931471805599453\n",
      "Current iteration=0, the loss=0.6931471805599453\n",
      "lambda :  0.0117210229753\n",
      "Current iteration=0, the loss=0.6931471805599453\n",
      "Current iteration=0, the loss=0.6931471805599453\n",
      "Current iteration=0, the loss=0.6931471805599453\n",
      "Current iteration=0, the loss=0.6931471805599453\n",
      "lambda :  0.0188739182214\n",
      "Current iteration=0, the loss=0.6931471805599453\n",
      "Current iteration=0, the loss=0.6931471805599453\n",
      "Current iteration=0, the loss=0.6931471805599453\n",
      "Current iteration=0, the loss=0.6931471805599453\n",
      "lambda :  0.0303919538231\n",
      "Current iteration=0, the loss=0.6931471805599453\n",
      "Current iteration=0, the loss=0.6931471805599453\n",
      "Current iteration=0, the loss=0.6931471805599453\n",
      "Current iteration=0, the loss=0.6931471805599453\n",
      "lambda :  0.0489390091848\n",
      "Current iteration=0, the loss=0.6931471805599453\n",
      "Current iteration=0, the loss=0.6931471805599453\n",
      "Current iteration=0, the loss=0.6931471805599453\n",
      "Current iteration=0, the loss=0.6931471805599453\n",
      "lambda :  0.0788046281567\n",
      "Current iteration=0, the loss=0.6931471805599453\n",
      "Current iteration=0, the loss=0.6931471805599453\n",
      "Current iteration=0, the loss=0.6931471805599453\n",
      "Current iteration=0, the loss=0.6931471805599453\n",
      "lambda :  0.126896100317\n",
      "Current iteration=0, the loss=0.6931471805599453\n",
      "Current iteration=0, the loss=0.6931471805599453\n",
      "Current iteration=0, the loss=0.6931471805599453\n",
      "Current iteration=0, the loss=0.6931471805599453\n",
      "lambda :  0.204335971786\n",
      "Current iteration=0, the loss=0.6931471805599453\n",
      "Current iteration=0, the loss=0.6931471805599453\n",
      "Current iteration=0, the loss=0.6931471805599453\n",
      "Current iteration=0, the loss=0.6931471805599453\n",
      "lambda :  0.329034456231\n",
      "Current iteration=0, the loss=0.6931471805599453\n",
      "Current iteration=0, the loss=0.6931471805599453\n",
      "Current iteration=0, the loss=0.6931471805599453\n",
      "Current iteration=0, the loss=0.6931471805599453\n",
      "lambda :  0.529831690628\n",
      "Current iteration=0, the loss=0.6931471805599453\n",
      "Current iteration=0, the loss=0.6931471805599453\n",
      "Current iteration=0, the loss=0.6931471805599453\n",
      "Current iteration=0, the loss=0.6931471805599453\n",
      "lambda :  0.853167852417\n",
      "Current iteration=0, the loss=0.6931471805599453\n",
      "Current iteration=0, the loss=0.6931471805599453\n",
      "Current iteration=0, the loss=0.6931471805599453\n",
      "Current iteration=0, the loss=0.6931471805599453\n",
      "lambda :  1.37382379588\n",
      "Current iteration=0, the loss=0.6931471805599453\n",
      "Current iteration=0, the loss=0.6931471805599453\n",
      "Current iteration=0, the loss=0.6931471805599453\n",
      "Current iteration=0, the loss=0.6931471805599453\n",
      "lambda :  2.21221629107\n",
      "Current iteration=0, the loss=0.6931471805599453\n",
      "Current iteration=0, the loss=0.6931471805599453\n",
      "Current iteration=0, the loss=0.6931471805599453\n",
      "Current iteration=0, the loss=0.6931471805599453\n",
      "lambda :  3.56224789026\n",
      "Current iteration=0, the loss=0.6931471805599453\n",
      "Current iteration=0, the loss=0.6931471805599453\n",
      "Current iteration=0, the loss=0.6931471805599453\n",
      "Current iteration=0, the loss=0.6931471805599453\n",
      "lambda :  5.73615251045\n",
      "Current iteration=0, the loss=0.6931471805599453\n",
      "Current iteration=0, the loss=0.6931471805599453\n",
      "Current iteration=0, the loss=0.6931471805599453\n",
      "Current iteration=0, the loss=0.6931471805599453\n",
      "lambda :  9.23670857187\n",
      "Current iteration=0, the loss=0.6931471805599453\n",
      "Current iteration=0, the loss=0.6931471805599453\n",
      "Current iteration=0, the loss=0.6931471805599453\n",
      "Current iteration=0, the loss=0.6931471805599453\n",
      "lambda :  14.8735210729\n",
      "Current iteration=0, the loss=0.6931471805599453\n",
      "Current iteration=0, the loss=0.6931471805599453\n",
      "Current iteration=0, the loss=0.6931471805599453\n",
      "Current iteration=0, the loss=0.6931471805599453\n",
      "lambda :  23.9502661999\n",
      "Current iteration=0, the loss=0.6931471805599453\n",
      "Current iteration=0, the loss=0.6931471805599453\n",
      "Current iteration=0, the loss=0.6931471805599453\n",
      "Current iteration=0, the loss=0.6931471805599453\n",
      "lambda :  38.5662042116\n",
      "Current iteration=0, the loss=0.6931471805599453\n",
      "Current iteration=0, the loss=0.6931471805599453\n",
      "Current iteration=0, the loss=0.6931471805599453\n",
      "Current iteration=0, the loss=0.6931471805599453\n",
      "lambda :  62.1016941892\n",
      "Current iteration=0, the loss=0.6931471805599453\n",
      "Current iteration=0, the loss=0.6931471805599453\n",
      "Current iteration=0, the loss=0.6931471805599453\n",
      "Current iteration=0, the loss=0.6931471805599453\n",
      "lambda :  100.0\n",
      "Current iteration=0, the loss=0.6931471805599453\n",
      "Current iteration=0, the loss=0.6931471805599453\n",
      "Current iteration=0, the loss=0.6931471805599453\n",
      "Current iteration=0, the loss=0.6931471805599453\n"
     ]
    },
    {
     "data": {
      "image/png": "[encoded data removed]",
      "text/plain": [
       "<matplotlib.figure.Figure at 0x12821c828>"
      ]
     },
     "metadata": {},
     "output_type": "display_data"
    }
   ],
   "source": [
    "initial_w=np.zeros(tX.shape[1])\n",
    "gamma=0.03#0.00003\n",
    "max_iters=20\n",
    "function_to_test=partial(reg_logistic_regression,gamma=gamma, max_iters=max_iters)\n",
    "k_fold=4\n",
    "lambdas = np.logspace(-4, 2, 30)\n",
    "loss_tr,loss_te=finding_lambda(y0,tX_norm,function_to_test,k_fold,1,lambdas,compute_loss_logistic)\n",
    "from helpers import *\n",
    "cross_validation_visualization(lambdas, loss_tr, loss_te)"
   ]
  },
  {
   "cell_type": "markdown",
   "metadata": {
    "collapsed": true
   },
   "source": [
    "#### Logistic regression"
   ]
  },
  {
   "cell_type": "code",
   "execution_count": null,
   "metadata": {
    "collapsed": false,
    "scrolled": true
   },
   "outputs": [],
   "source": [
    "tXs = rescale(tX)\n",
    "tX_norm = tXs\n",
    "y0=modify_y(y)\n",
    "loss_tr,weights=logistic_regression(y0,tX_norm,0.03,800)"
   ]
  },
  {
   "cell_type": "code",
   "execution_count": null,
   "metadata": {
    "collapsed": true
   },
   "outputs": [],
   "source": [
    "loss_tr,weights=logistic_regression(y0,tX_norm,0.00003,800)"
   ]
  },
  {
   "cell_type": "code",
   "execution_count": null,
   "metadata": {
    "collapsed": false
   },
   "outputs": [],
   "source": [
    "y_pred2 = np.dot(tX_norm, weights)\n",
    "y_pred2[np.where(y_pred2 <= 1/2)] = -1\n",
    "y_pred2[np.where(y_pred2 > 1/2)] = 1\n",
    "len((y-y_pred2)[np.where(y-y_pred2!=0)])"
   ]
  },
  {
   "cell_type": "code",
   "execution_count": null,
   "metadata": {
    "collapsed": false
   },
   "outputs": [],
   "source": [
    "len(y)"
   ]
  },
  {
   "cell_type": "code",
   "execution_count": null,
   "metadata": {
    "collapsed": false,
    "scrolled": true
   },
   "outputs": [],
   "source": [
    "loss, weights=least_squares_GD(y,tX_norm,0.000003,1000)"
   ]
  },
  {
   "cell_type": "code",
   "execution_count": 35,
   "metadata": {
    "collapsed": false,
    "scrolled": true
   },
   "outputs": [],
   "source": [
    "# losss,weights = least_squares(y,tX)\n",
    "loss,weights = least_squares(y,tX_norm)"
   ]
  },
  {
   "cell_type": "code",
   "execution_count": 29,
   "metadata": {
    "collapsed": false
   },
   "outputs": [
    {
     "name": "stdout",
     "output_type": "stream",
     "text": [
      "0.339686809477 [  8.03494352e-05  -7.20202266e-03  -6.05417274e-03  -5.47559078e-04\n",
      "  -1.93874687e-02   4.73451613e-04  -2.60379058e-02   3.25106299e-01\n",
      "  -3.80780000e-05  -2.72788699e+00  -2.21220141e-01   9.50794097e-02\n",
      "   6.40351609e-02   2.73614667e+00  -3.31801090e-04  -9.54325141e-04\n",
      "   2.74090341e+00  -5.34165279e-04   9.73498912e-04   3.69225050e-03\n",
      "   3.54487164e-04  -5.43344618e-04  -3.30448035e-01  -1.40800497e-03\n",
      "   8.31432840e-04   1.02117276e-03  -1.68047418e-03  -5.83664793e-03\n",
      "  -1.11088004e-02   2.72834692e+00]\n"
     ]
    }
   ],
   "source": [
    "print(losss,weights)"
   ]
  },
  {
   "cell_type": "code",
   "execution_count": 37,
   "metadata": {
    "collapsed": false,
    "scrolled": true
   },
   "outputs": [
    {
     "name": "stdout",
     "output_type": "stream",
     "text": [
      "[-0.13863766  0.01615254 -0.59610159 ..., -0.34290224  0.13219625\n",
      " -0.64552817]\n",
      "[-1.          0.01615254 -1.         ..., -1.          0.13219625 -1.        ]\n",
      "[-1.  1. -1. ..., -1.  1. -1.]\n",
      "[ 1. -1. -1. ...,  1. -1. -1.]\n",
      "63771\n"
     ]
    }
   ],
   "source": [
    "y_pred = np.dot(tX_norm, weights)\n",
    "print(y_pred)\n",
    "y_pred[np.where(y_pred <= 0)] = -1\n",
    "print(y_pred)\n",
    "y_pred[np.where(y_pred > 0)] = 1\n",
    "print(y_pred)\n",
    "print(y)\n",
    "print (len((y_pred-y)[np.where((y_pred-y)!=0)]))"
   ]
  },
  {
   "cell_type": "code",
   "execution_count": null,
   "metadata": {
    "collapsed": true
   },
   "outputs": [],
   "source": []
  },
  {
   "cell_type": "code",
   "execution_count": null,
   "metadata": {
    "collapsed": false,
    "scrolled": true
   },
   "outputs": [],
   "source": [
    "loss,w = logistic_regression(y,tXs,0.03,20)"
   ]
  },
  {
   "cell_type": "markdown",
   "metadata": {},
   "source": [
    "## Generate predictions and save ouput in csv format for submission:"
   ]
  },
  {
   "cell_type": "code",
   "execution_count": null,
   "metadata": {
    "collapsed": false
   },
   "outputs": [],
   "source": [
    "DATA_TEST_PATH = '../test.csv' # TODO: download train data and supply path here \n",
    "_, tX_test, ids_test = load_csv_data(DATA_TEST_PATH)"
   ]
  },
  {
   "cell_type": "code",
   "execution_count": null,
   "metadata": {
    "collapsed": true
   },
   "outputs": [],
   "source": [
    "def predict_labels_modified_y(weights, data):\n",
    "    \"\"\"Generates class predictions given weights, and a test data matrix when y was 0 or 1 for the weights\"\"\"\n",
    "    y_pred = np.dot(data, weights)*2-1\n",
    "    y_pred[np.where(y_pred <= 0)] = -1\n",
    "    y_pred[np.where(y_pred > 0)] = 1\n",
    "    \n",
    "    return y_pred"
   ]
  },
  {
   "cell_type": "code",
   "execution_count": null,
   "metadata": {
    "collapsed": false
   },
   "outputs": [],
   "source": [
    "tX_test_norm=remove_outliers(tX_test,mean_x,std_x)"
   ]
  },
  {
   "cell_type": "code",
   "execution_count": null,
   "metadata": {
    "collapsed": false
   },
   "outputs": [],
   "source": [
    "OUTPUT_PATH = '../submission.csv' # TODO: fill in desired name of output file for submission\n",
    "y_pred = predict_labels(weights, tX_test_norm)\n",
    "create_csv_submission(ids_test, y_pred, OUTPUT_PATH)"
   ]
  },
  {
   "cell_type": "code",
   "execution_count": null,
   "metadata": {
    "collapsed": true
   },
   "outputs": [],
   "source": []
  },
  {
   "cell_type": "code",
   "execution_count": 76,
   "metadata": {
    "collapsed": true
   },
   "outputs": [],
   "source": [
    "from proj1_helpers import *\n",
    "DATA_TRAIN_PATH = '../train.csv' # TODO: download train data and supply path here \n",
    "y, tX, ids = load_csv_data(DATA_TRAIN_PATH)"
   ]
  },
  {
   "cell_type": "code",
   "execution_count": 77,
   "metadata": {
    "collapsed": false
   },
   "outputs": [],
   "source": [
    "DATA_TEST_PATH = '../test.csv' # TODO: download train data and supply path here \n",
    "_, tX_test, ids_test = load_csv_data(DATA_TEST_PATH)"
   ]
  },
  {
   "cell_type": "code",
   "execution_count": 81,
   "metadata": {
    "collapsed": false,
    "scrolled": true
   },
   "outputs": [],
   "source": [
    "loss,weights = least_squares(y,tX)"
   ]
  },
  {
   "cell_type": "code",
   "execution_count": 83,
   "metadata": {
    "collapsed": false
   },
   "outputs": [
    {
     "name": "stdout",
     "output_type": "stream",
     "text": [
      "[-0.1034803   0.0132493  -0.62990433 ..., -0.34063008  0.12640066\n",
      " -0.65262579]\n",
      "[-1.          0.0132493  -1.         ..., -1.          0.12640066 -1.        ]\n",
      "[-1.  1. -1. ..., -1.  1. -1.]\n",
      "[ 1. -1. -1. ...,  1. -1. -1.]\n",
      "63918\n"
     ]
    }
   ],
   "source": [
    "y_pred = np.dot(tX, weights)\n",
    "print(y_pred)\n",
    "y_pred[np.where(y_pred <= 0)] = -1\n",
    "print(y_pred)\n",
    "y_pred[np.where(y_pred > 0)] = 1\n",
    "print(y_pred)\n",
    "print(y)\n",
    "print (len((y_pred-y)[np.where((y_pred-y)!=0)]))"
   ]
  },
  {
   "cell_type": "code",
   "execution_count": 80,
   "metadata": {
    "collapsed": true
   },
   "outputs": [],
   "source": [
    "OUTPUT_PATH = '../submission.csv' # TODO: fill in desired name of output file for submission\n",
    "y_pred = predict_labels(weights, tX_test)\n",
    "create_csv_submission(ids_test, y_pred, OUTPUT_PATH)"
   ]
  },
  {
   "cell_type": "code",
   "execution_count": null,
   "metadata": {
    "collapsed": true
   },
   "outputs": [],
   "source": []
  }
 ],
 "metadata": {
  "anaconda-cloud": {},
  "kernelspec": {
   "display_name": "Python [conda root]",
   "language": "python",
   "name": "conda-root-py"
  },
  "language_info": {
   "codemirror_mode": {
    "name": "ipython",
    "version": 3
   },
   "file_extension": ".py",
   "mimetype": "text/x-python",
   "name": "python",
   "nbconvert_exporter": "python",
   "pygments_lexer": "ipython3",
   "version": "3.5.2"
  }
 },
 "nbformat": 4,
 "nbformat_minor": 0
}
